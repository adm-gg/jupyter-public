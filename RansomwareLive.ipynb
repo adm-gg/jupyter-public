{
 "cells": [
  {
   "cell_type": "markdown",
   "metadata": {},
   "source": [
    "# Ransomware Victims\n",
    "This is a notebook for interrogating the [ransomware.live](https://www.ransomware.live) API and ~~analysing~~ playing with the results\n",
    "\n",
    "(this text here is written in markdown, like GitHub, Reddit and some blog platforms so if you double click (I think) then you can edit the formatting)"
   ]
  },
  {
   "cell_type": "code",
   "execution_count": 1,
   "metadata": {},
   "outputs": [],
   "source": [
    "# requests is a library for making HTTP requests\n",
    "import requests"
   ]
  },
  {
   "cell_type": "code",
   "execution_count": 2,
   "metadata": {},
   "outputs": [],
   "source": [
    "#API enpoint\n",
    "url =\"https://api.ransomware.live/recentvictims\" "
   ]
  },
  {
   "cell_type": "code",
   "execution_count": 3,
   "metadata": {},
   "outputs": [],
   "source": [
    "#It's literally this easy to get a list of recent ransomware victims into python\n",
    "response = requests.get(url)"
   ]
  },
  {
   "cell_type": "markdown",
   "metadata": {},
   "source": [
    "### available data"
   ]
  },
  {
   "cell_type": "code",
   "execution_count": 4,
   "metadata": {},
   "outputs": [
    {
     "data": {
      "text/plain": [
       "{'country': '',\n",
       " 'description': 'Doprastav, JSC is a modern construction company with the history of more than half a century which is capable to offer the construction of buildings and structures of any kind.For each investor the  Doprastav, JSC trademark represents a guarantee...',\n",
       " 'discovered': '2024-02-13 14:41:33.820732',\n",
       " 'group_name': 'lockbit3',\n",
       " 'post_title': 'doprastav.sk',\n",
       " 'post_url': 'http://lockbitapt2d73krlbewgv27tquljgxr33xbwwsp6rkyieto7u4ncead.onion/post/0vTNsQOLxrzlp6TF65cb72ecc8fe1',\n",
       " 'published': '2024-02-13 13:47:00.000000',\n",
       " 'screenshot': 'https://images.ransomware.live/screenshots/posts/c3f2800d3ba74d8256d51436f678d22a.png',\n",
       " 'website': ''}"
      ]
     },
     "execution_count": 4,
     "metadata": {},
     "output_type": "execute_result"
    }
   ],
   "source": [
    "#so now i have an array of records of victims. \n",
    "#this is just looking at a single entry in that array to see what info is available in a record\n",
    "response.json()[0]"
   ]
  },
  {
   "cell_type": "code",
   "execution_count": 5,
   "metadata": {},
   "outputs": [
    {
     "name": "stdout",
     "output_type": "stream",
     "text": [
      "100\n"
     ]
    }
   ],
   "source": [
    "#how many records?\n",
    "print(len(response.json()))"
   ]
  },
  {
   "cell_type": "code",
   "execution_count": 6,
   "metadata": {},
   "outputs": [
    {
     "name": "stdout",
     "output_type": "stream",
     "text": [
      "doprastav.sk\n",
      "Trans-Northern Pipelines\n",
      "ArcisGolf\n",
      "The Source\n",
      "New Indy Containerboard\n",
      "Procopio\n",
      "Herrs\n",
      "Sanok Rubber CompanySpólka Akcyjna\n",
      "Satse\n",
      "auruminstitute.org\n",
      "garonproducts.com\n",
      "Antunovich Associates\n",
      "DHX–Dependable Hawaiian Express\n",
      "Forgepresion.com\n",
      "bv*********.com\n",
      "ga*******.com\n",
      "Rush Energy Services Inc [You have 48 hours]\n",
      "SERCIDE\n",
      "Lower Valley Energy, Inc\n",
      "Modern Kitchens \n",
      "germaintoiture.fr\n",
      "vhprimary.com\n",
      "Kreyenhop & Kluge\n",
      "silverairways.com\n",
      "textiles.org.tw\n",
      "cabc.com.ar\n",
      "plexustelerad.com\n",
      "isspol.gov\n",
      "fidcornelis.be\n",
      "parkhomeassist.co.uk\n",
      "paltertonprimary.co.uk\n",
      "camarotto.it\n",
      "sealco-leb.com\n",
      "envie.org\n",
      "dienerprecisionpumps.com\n",
      "lyon.co.uk\n",
      "grotonschools.org\n",
      "robs.org\n",
      "jacksonvillebeach.org\n",
      "Kadac Australia\n",
      "Arlington Perinatal Associates\n",
      "Freedom Munitions\n",
      "Allmetal Inc.\n",
      "Disaronno International\n",
      "Amoskeag Network Consulting Group LLC\n",
      "lacolline-skincare.com\n",
      "Upper Merion Township\n",
      "YKP LTDA\n",
      "Village of Skokie\n",
      "Lancaster County Sheriff's Office\n",
      "SOPEM Tunisie\n",
      "SOPEM\n",
      "Benchmark Management Group\n",
      "Nastech\n",
      "Impact Energy Services\n",
      "Groupe Goyette\n",
      "Dalmahoy Hotel & Country Club\n",
      "Carespring Health Care\n",
      "Avianor Aircraft\n",
      "mranet.org\n",
      "maddockhenson\n",
      "aisg-online.com\n",
      "verdimed.es\n",
      "Pacific American Fish Company Inc.\n",
      "water.cc\n",
      "CTSI\n",
      "J.P. Original\n",
      "TechNet Kronoberg AB\n",
      "Capozzi Adler, P.C.\n",
      "Drost Kivlahan McMahon & O'Connor LLC\n",
      "Grace Lutheran Foundation\n",
      "ZGEO\n",
      "wannago.cloud\n",
      "alfiras.com\n",
      "willislease.com\n",
      "indoramaventures.com\n",
      "maximumresearch.com\n",
      "soken-ce.co.jp\n",
      "cdtmedicus.pl\n",
      "grupomoraval.com\n",
      "posen.com\n",
      "northseayachtsupport.nl\n",
      "moneyadvicetrust.org\n",
      "bsaarchitects.com\n",
      "seymourct.org\n",
      "macqueeneq.com\n",
      "parksite.com\n",
      "Ducont\n",
      "Distecna\n",
      "Jewish Home Lifecare\n",
      "originalfootwear.com\n",
      "perkinsmfg.com\n",
      "Western Municipal Construction\n",
      "Southwest Binding & Laminating\n",
      "TeraGo\n",
      "tecasrl.it\n",
      "galbusera.it\n",
      "magi-erp.com\n",
      "LILI'S BROWNIES\n",
      "solveindustrial.com\n"
     ]
    }
   ],
   "source": [
    "#cool so go through all 100 victims and print the title of the post\n",
    "for victim in response.json():\n",
    "    print(victim['post_title'])"
   ]
  },
  {
   "cell_type": "code",
   "execution_count": 7,
   "metadata": {},
   "outputs": [],
   "source": [
    "#and now i want to count prevalence of different groups\n",
    "group_counts = {}\n",
    "for victim in response.json():\n",
    "    group_name = victim['group_name']\n",
    "    if group_name not in group_counts:\n",
    "        group_counts[group_name] = 0\n",
    "    group_counts[group_name] += 1"
   ]
  },
  {
   "cell_type": "code",
   "execution_count": 8,
   "metadata": {},
   "outputs": [
    {
     "data": {
      "text/plain": [
       "{'lockbit3': 40,\n",
       " 'alphv': 12,\n",
       " 'akira': 3,\n",
       " 'hunters': 14,\n",
       " 'threeam': 1,\n",
       " 'blacksuit': 3,\n",
       " 'knight': 1,\n",
       " 'cloak': 3,\n",
       " 'medusa': 3,\n",
       " 'meow': 4,\n",
       " 'qilin': 3,\n",
       " 'ransomhub': 1,\n",
       " 'abyss': 2,\n",
       " 'incransom': 1,\n",
       " 'bianlian': 5,\n",
       " 'blackbasta': 1,\n",
       " 'cactus': 1,\n",
       " '8base': 1,\n",
       " 'werewolves': 1}"
      ]
     },
     "execution_count": 8,
     "metadata": {},
     "output_type": "execute_result"
    }
   ],
   "source": [
    "group_counts"
   ]
  },
  {
   "cell_type": "markdown",
   "metadata": {},
   "source": [
    "### next i'll plot the results\n",
    "for this one you need `matplotlib` installed\n",
    "let's try some magic to install it from the notebook\n",
    "\n",
    "(a % sign is a magic symbol that does non-python things)"
   ]
  },
  {
   "cell_type": "code",
   "execution_count": null,
   "metadata": {},
   "outputs": [],
   "source": [
    "%pip install matplotlib"
   ]
  },
  {
   "cell_type": "code",
   "execution_count": 9,
   "metadata": {},
   "outputs": [
    {
     "data": {
      "image/png": "[encoded data removed]",
      "text/plain": [
       "<Figure size 640x480 with 1 Axes>"
      ]
     },
     "metadata": {},
     "output_type": "display_data"
    }
   ],
   "source": [
    "import matplotlib.pyplot as plt\n",
    "\n",
    "# Create a bar chart to visualize the counts\n",
    "plt.bar(group_counts.keys(), group_counts.values())\n",
    "# Rotate the x-axis labels by 45 degrees or else it gets all bunched up\n",
    "plt.xticks(rotation=45)\n",
    "# Add labels and a title\n",
    "plt.xlabel('Group')\n",
    "plt.ylabel('Count')\n",
    "plt.title('Counts of each group')\n",
    "# Display the chart\n",
    "plt.show()"
   ]
  }
 ],
 "metadata": {
  "kernelspec": {
   "display_name": "Python 3",
   "language": "python",
   "name": "python3"
  },
  "language_info": {
   "codemirror_mode": {
    "name": "ipython",
    "version": 3
   },
   "file_extension": ".py",
   "mimetype": "text/x-python",
   "name": "python",
   "nbconvert_exporter": "python",
   "pygments_lexer": "ipython3",
   "version": "3.10.3"
  },
  "orig_nbformat": 4
 },
 "nbformat": 4,
 "nbformat_minor": 2
}
